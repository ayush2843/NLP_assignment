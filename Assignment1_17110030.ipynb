{
  "nbformat": 4,
  "nbformat_minor": 0,
  "metadata": {
    "colab": {
      "name": "NLP_assignment1.ipynb",
      "version": "0.3.2",
      "provenance": [],
      "toc_visible": true
    },
    "kernelspec": {
      "name": "python3",
      "display_name": "Python 3"
    }
  },
  "cells": [
    {
      "cell_type": "code",
      "metadata": {
        "id": "WypCQntiDeFV",
        "colab_type": "code",
        "colab": {}
      },
      "source": [
        "import numpy as np\n",
        "import pandas as pd\n",
        "from nltk.tokenize import TweetTokenizer\n",
        "import matplotlib.pyplot as plt\n",
        "import numpy.polynomial.polynomial as poly\n"
      ],
      "execution_count": 0,
      "outputs": []
    },
    {
      "cell_type": "code",
      "metadata": {
        "id": "ftc1MTUtDnJT",
        "colab_type": "code",
        "colab": {}
      },
      "source": [
        "data=pd.read_csv(\"tweets-dataset.csv\")"
      ],
      "execution_count": 0,
      "outputs": []
    },
    {
      "cell_type": "markdown",
      "metadata": {
        "id": "mFoCiMTZ3vTz",
        "colab_type": "text"
      },
      "source": [
        "## Question 1"
      ]
    },
    {
      "cell_type": "code",
      "metadata": {
        "id": "K47R_xUJEXVh",
        "colab_type": "code",
        "colab": {}
      },
      "source": [
        "tknzr = TweetTokenizer()\n",
        "token=list()\n",
        "for i in range(len(data[\"Sentence\"])):\n",
        "  tweet=data[\"Sentence\"][i]\n",
        "  temp=tknzr.tokenize(tweet)\n",
        "  token.extend(temp)\n"
      ],
      "execution_count": 0,
      "outputs": []
    },
    {
      "cell_type": "code",
      "metadata": {
        "id": "UQQkdclwK200",
        "colab_type": "code",
        "colab": {}
      },
      "source": [
        "types=set(token)\n",
        "types=list(types)\n"
      ],
      "execution_count": 0,
      "outputs": []
    },
    {
      "cell_type": "code",
      "metadata": {
        "id": "19UkRq9RMTOr",
        "colab_type": "code",
        "outputId": "ce0cf520-f8b1-4b07-f663-2f33d5f8dbcf",
        "colab": {
          "base_uri": "https://localhost:8080/",
          "height": 67
        }
      },
      "source": [
        "#TTR ratio\n",
        "ttr=(len(types)/len(token))\n",
        "print(\"Types in the whole dataset : \" + str(len(types)))\n",
        "print(\"Tokens in the whole dataset : \" + str(len(token)))\n",
        "print(\"TTR of the whole dataset : \" + str(ttr))"
      ],
      "execution_count": 6,
      "outputs": [
        {
          "output_type": "stream",
          "text": [
            "Types in the whole tweet dataset : 49112\n",
            "Tokens in the whole tweet dataset : 367840\n",
            "TTR of the whole tweet dataset : 0.13351457155284907\n"
          ],
          "name": "stdout"
        }
      ]
    },
    {
      "cell_type": "markdown",
      "metadata": {
        "id": "z8BFsSAF4dDu",
        "colab_type": "text"
      },
      "source": [
        "# Question2 "
      ]
    },
    {
      "cell_type": "code",
      "metadata": {
        "id": "FTTHTPnrJt4j",
        "colab_type": "code",
        "colab": {}
      },
      "source": [
        "from nltk.corpus import wordnet\n",
        "import random\n",
        "import math\n",
        "import matplotlib.pyplot as plt\n",
        "import numpy.polynomial.polynomial as poly"
      ],
      "execution_count": 0,
      "outputs": []
    },
    {
      "cell_type": "markdown",
      "metadata": {
        "id": "51wQ70arIxNZ",
        "colab_type": "text"
      },
      "source": [
        ""
      ]
    },
    {
      "cell_type": "markdown",
      "metadata": {
        "id": "IhK6q5gv4wpE",
        "colab_type": "text"
      },
      "source": [
        "# Question 3 "
      ]
    },
    {
      "cell_type": "code",
      "metadata": {
        "id": "pK-8NB4aF7lm",
        "colab_type": "code",
        "colab": {
          "base_uri": "https://localhost:8080/",
          "height": 283
        },
        "outputId": "e380b4f8-9da2-46eb-c244-fbdd7355b186"
      },
      "source": [
        "count = 0\n",
        "cor = []\n",
        "voc = set()\n",
        "z =[]\n",
        "for i in range(0,len(token)):\n",
        "    cor.append(i)\n",
        "    voc.add(token[i])\n",
        "    z.append(len(voc))\n",
        "plt.plot(corpus,z)\n",
        "plt.xlabel(\"Size fo the Corpus\")\n",
        "plt.ylabel(\"Vocabulary size |V|\")\n",
        "plt.show()"
      ],
      "execution_count": 16,
      "outputs": [
        {
          "output_type": "display_data",
          "data": {
            "image/png": "[encoded data removed]",
            "text/plain": [
              "<Figure size 432x288 with 1 Axes>"
            ]
          },
          "metadata": {
            "tags": []
          }
        }
      ]
    },
    {
      "cell_type": "code",
      "metadata": {
        "id": "jyxOAatLFkLq",
        "colab_type": "code",
        "colab": {}
      },
      "source": [
        ""
      ],
      "execution_count": 0,
      "outputs": []
    }
  ]
}
