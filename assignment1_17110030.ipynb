{
  "nbformat": 4,
  "nbformat_minor": 0,
  "metadata": {
    "colab": {
      "name": "NLP_assignment1.ipynb",
      "version": "0.3.2",
      "provenance": [],
      "toc_visible": true
    },
    "kernelspec": {
      "name": "python3",
      "display_name": "Python 3"
    }
  },
  "cells": [
    {
      "cell_type": "code",
      "metadata": {
        "id": "WypCQntiDeFV",
        "colab_type": "code",
        "colab": {
          "base_uri": "https://localhost:8080/",
          "height": 67
        },
        "outputId": "f3bac7f0-f208-4a86-ce1d-dfad1e246a19"
      },
      "source": [
        "import numpy as np\n",
        "import pandas as pd\n",
        "from nltk.tokenize import TweetTokenizer\n",
        "import matplotlib.pyplot as plt\n",
        "import numpy.polynomial.polynomial as poly\n",
        "import nltk\n",
        "nltk.download('wordnet')\n"
      ],
      "execution_count": 2,
      "outputs": [
        {
          "output_type": "stream",
          "text": [
            "[nltk_data] Downloading package wordnet to /root/nltk_data...\n",
            "[nltk_data]   Package wordnet is already up-to-date!\n"
          ],
          "name": "stdout"
        },
        {
          "output_type": "execute_result",
          "data": {
            "text/plain": [
              "True"
            ]
          },
          "metadata": {
            "tags": []
          },
          "execution_count": 2
        }
      ]
    },
    {
      "cell_type": "code",
      "metadata": {
        "id": "ftc1MTUtDnJT",
        "colab_type": "code",
        "colab": {}
      },
      "source": [
        "data=pd.read_csv(\"tweets-dataset.csv\")"
      ],
      "execution_count": 0,
      "outputs": []
    },
    {
      "cell_type": "markdown",
      "metadata": {
        "id": "mFoCiMTZ3vTz",
        "colab_type": "text"
      },
      "source": [
        "## Question 1"
      ]
    },
    {
      "cell_type": "code",
      "metadata": {
        "id": "K47R_xUJEXVh",
        "colab_type": "code",
        "colab": {}
      },
      "source": [
        "tknzr = TweetTokenizer()\n",
        "token=list()\n",
        "for i in range(len(data[\"Sentence\"])):\n",
        "  tweet=data[\"Sentence\"][i]\n",
        "  temp=tknzr.tokenize(tweet)\n",
        "  token.extend(temp)\n"
      ],
      "execution_count": 0,
      "outputs": []
    },
    {
      "cell_type": "code",
      "metadata": {
        "id": "UQQkdclwK200",
        "colab_type": "code",
        "colab": {}
      },
      "source": [
        "types=set(token)\n",
        "types=list(types)\n"
      ],
      "execution_count": 0,
      "outputs": []
    },
    {
      "cell_type": "code",
      "metadata": {
        "id": "19UkRq9RMTOr",
        "colab_type": "code",
        "outputId": "ea55df56-967d-4fc4-f30f-a69cb015656e",
        "colab": {
          "base_uri": "https://localhost:8080/",
          "height": 67
        }
      },
      "source": [
        "#TTR ratio\n",
        "ttr=(len(types)/len(token))\n",
        "print(\"Types in the whole dataset : \" + str(len(types)))\n",
        "print(\"Tokens in the whole dataset : \" + str(len(token)))\n",
        "print(\"TTR of the whole dataset : \" + str(ttr))"
      ],
      "execution_count": 6,
      "outputs": [
        {
          "output_type": "stream",
          "text": [
            "Types in the whole dataset : 49112\n",
            "Tokens in the whole dataset : 367840\n",
            "TTR of the whole dataset : 0.13351457155284907\n"
          ],
          "name": "stdout"
        }
      ]
    },
    {
      "cell_type": "markdown",
      "metadata": {
        "id": "z8BFsSAF4dDu",
        "colab_type": "text"
      },
      "source": [
        "# Question2 "
      ]
    },
    {
      "cell_type": "code",
      "metadata": {
        "id": "FTTHTPnrJt4j",
        "colab_type": "code",
        "colab": {}
      },
      "source": [
        "from nltk.corpus import wordnet\n",
        "import random\n",
        "import math\n",
        "import matplotlib.pyplot as plt\n",
        "import numpy.polynomial.polynomial as poly"
      ],
      "execution_count": 0,
      "outputs": []
    },
    {
      "cell_type": "markdown",
      "metadata": {
        "id": "I3hPWJeNPR3m",
        "colab_type": "text"
      },
      "source": [
        "# Meanings versus Square root of frequency"
      ]
    },
    {
      "cell_type": "code",
      "metadata": {
        "id": "ZUlW1zTzLLFe",
        "colab_type": "code",
        "colab": {
          "base_uri": "https://localhost:8080/",
          "height": 269
        },
        "outputId": "d165c211-3c87-4b43-ce2c-b73eeb0750ed"
      },
      "source": [
        "freq={}\n",
        "meaning={}\n",
        "for i in range(len(token)):\n",
        "  if token[i] not in freq:\n",
        "    freq[token[i]]=1\n",
        "    all_synonynms=[]\n",
        "    for synonym in wordnet.synsets(token[i]):   \n",
        "      \n",
        "            for l in synonym.lemmas():\n",
        "             if(l.name() == token[i]):\n",
        "               all_synonynms.append(l.name())\n",
        "    meaning[token[i]] = len(all_synonynms)\n",
        "  else:\n",
        "    freq[token[i]]+=1\n",
        "arr1=[]\n",
        "arr2=[]\n",
        "for i in freq:\n",
        "  arr1.append(math.sqrt(freq[i]))\n",
        "  arr2.append(meaning[i])\n",
        "plt.scatter(arr1,arr2,1)\n",
        "plt.show()"
      ],
      "execution_count": 10,
      "outputs": [
        {
          "output_type": "display_data",
          "data": {
            "image/png": "[encoded data removed]",
            "text/plain": [
              "<Figure size 432x288 with 1 Axes>"
            ]
          },
          "metadata": {
            "tags": []
          }
        }
      ]
    },
    {
      "cell_type": "markdown",
      "metadata": {
        "id": "crZa6MeNPY8_",
        "colab_type": "text"
      },
      "source": [
        "# Length versus frequency of the word"
      ]
    },
    {
      "cell_type": "code",
      "metadata": {
        "id": "116BEWjiPYWz",
        "colab_type": "code",
        "colab": {
          "base_uri": "https://localhost:8080/",
          "height": 283
        },
        "outputId": "0a82591e-6299-45e3-9c8d-f73daaa64ab8"
      },
      "source": [
        "arr1 = []\n",
        "arr2 = []\n",
        "dic={}\n",
        "for i in types:\n",
        "  dic[i]=0\n",
        "for i in token:\n",
        "  dic[i]+=1\n",
        "  \n",
        "\n",
        "for i in dic.keys():\n",
        "    arr1.append(dic[i])\n",
        "    arr2.append(len(i))\n",
        "plt.scatter(arr1,arr2)\n",
        "plt.xlabel(\"Frequency of the word\")\n",
        "plt.ylabel(\"Length of the word\")\n",
        "plt.show()"
      ],
      "execution_count": 9,
      "outputs": [
        {
          "output_type": "display_data",
          "data": {
            "image/png": "[encoded data removed]",
            "text/plain": [
              "<Figure size 432x288 with 1 Axes>"
            ]
          },
          "metadata": {
            "tags": []
          }
        }
      ]
    },
    {
      "cell_type": "markdown",
      "metadata": {
        "id": "51wQ70arIxNZ",
        "colab_type": "text"
      },
      "source": [
        ""
      ]
    },
    {
      "cell_type": "markdown",
      "metadata": {
        "id": "IhK6q5gv4wpE",
        "colab_type": "text"
      },
      "source": [
        "# Question 3 "
      ]
    },
    {
      "cell_type": "code",
      "metadata": {
        "id": "pK-8NB4aF7lm",
        "colab_type": "code",
        "colab": {
          "base_uri": "https://localhost:8080/",
          "height": 283
        },
        "outputId": "959d4812-0621-4c77-8a31-ad91708275e7"
      },
      "source": [
        "count = 0\n",
        "cor = []\n",
        "voc = set()\n",
        "z =[]\n",
        "for i in range(0,len(token)):\n",
        "    cor.append(i)\n",
        "    voc.add(token[i])\n",
        "    z.append(len(voc))\n",
        "plt.plot(corpus,z)\n",
        "plt.xlabel(\"Corpus size\")\n",
        "plt.ylabel(\"Vocabulary size |V|\")\n",
        "plt.show()"
      ],
      "execution_count": 31,
      "outputs": [
        {
          "output_type": "display_data",
          "data": {
            "image/png": "[encoded data removed]",
            "text/plain": [
              "<Figure size 432x288 with 1 Axes>"
            ]
          },
          "metadata": {
            "tags": []
          }
        }
      ]
    },
    {
      "cell_type": "code",
      "metadata": {
        "id": "jyxOAatLFkLq",
        "colab_type": "code",
        "colab": {}
      },
      "source": [
        ""
      ],
      "execution_count": 0,
      "outputs": []
    }
  ]
}